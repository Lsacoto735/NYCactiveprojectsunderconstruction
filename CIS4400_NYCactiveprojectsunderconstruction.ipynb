{
  "nbformat": 4,
  "nbformat_minor": 0,
  "metadata": {
    "colab": {
      "provenance": [],
      "authorship_tag": "ABX9TyOMksLgkqaGX2xQAu5ZPhnf",
      "include_colab_link": true
    },
    "kernelspec": {
      "name": "python3",
      "display_name": "Python 3"
    },
    "language_info": {
      "name": "python"
    }
  },
  "cells": [
    {
      "cell_type": "markdown",
      "metadata": {
        "id": "view-in-github",
        "colab_type": "text"
      },
      "source": [
        "<a href=\"https://colab.research.google.com/github/Lsacoto735/NYCactiveprojectsunderconstruction/blob/main/CIS4400_NYCactiveprojectsunderconstruction.ipynb\" target=\"_parent\"><img src=\"https://colab.research.google.com/assets/colab-badge.svg\" alt=\"Open In Colab\"/></a>"
      ]
    },
    {
      "cell_type": "code",
      "source": [
        "!pip install azure-storage-blob"
      ],
      "metadata": {
        "colab": {
          "base_uri": "https://localhost:8080/"
        },
        "id": "ZfhQ2I0FCbX9",
        "outputId": "60e43da3-45e4-40e4-b985-adc00fcdd653"
      },
      "execution_count": 9,
      "outputs": [
        {
          "output_type": "stream",
          "name": "stdout",
          "text": [
            "Collecting azure-storage-blob\n",
            "  Downloading azure_storage_blob-12.19.1-py3-none-any.whl (394 kB)\n",
            "\u001b[?25l     \u001b[90m━━━━━━━━━━━━━━━━━━━━━━━━━━━━━━━━━━━━━━━━\u001b[0m \u001b[32m0.0/394.5 kB\u001b[0m \u001b[31m?\u001b[0m eta \u001b[36m-:--:--\u001b[0m\r\u001b[2K     \u001b[91m━━━━━━━━━━━━━━━━\u001b[0m\u001b[91m╸\u001b[0m\u001b[90m━━━━━━━━━━━━━━━━━━━━━━━\u001b[0m \u001b[32m163.8/394.5 kB\u001b[0m \u001b[31m4.8 MB/s\u001b[0m eta \u001b[36m0:00:01\u001b[0m\r\u001b[2K     \u001b[91m━━━━━━━━━━━━━━━━━━━━━━━━━━━━━━━━━━━━━━━\u001b[0m\u001b[90m╺\u001b[0m \u001b[32m389.1/394.5 kB\u001b[0m \u001b[31m7.1 MB/s\u001b[0m eta \u001b[36m0:00:01\u001b[0m\r\u001b[2K     \u001b[90m━━━━━━━━━━━━━━━━━━━━━━━━━━━━━━━━━━━━━━━━\u001b[0m \u001b[32m394.5/394.5 kB\u001b[0m \u001b[31m5.4 MB/s\u001b[0m eta \u001b[36m0:00:00\u001b[0m\n",
            "\u001b[?25hCollecting azure-core<2.0.0,>=1.28.0 (from azure-storage-blob)\n",
            "  Downloading azure_core-1.30.1-py3-none-any.whl (193 kB)\n",
            "\u001b[2K     \u001b[90m━━━━━━━━━━━━━━━━━━━━━━━━━━━━━━━━━━━━━━━━\u001b[0m \u001b[32m193.4/193.4 kB\u001b[0m \u001b[31m9.4 MB/s\u001b[0m eta \u001b[36m0:00:00\u001b[0m\n",
            "\u001b[?25hRequirement already satisfied: cryptography>=2.1.4 in /usr/local/lib/python3.10/dist-packages (from azure-storage-blob) (42.0.5)\n",
            "Requirement already satisfied: typing-extensions>=4.3.0 in /usr/local/lib/python3.10/dist-packages (from azure-storage-blob) (4.10.0)\n",
            "Collecting isodate>=0.6.1 (from azure-storage-blob)\n",
            "  Downloading isodate-0.6.1-py2.py3-none-any.whl (41 kB)\n",
            "\u001b[2K     \u001b[90m━━━━━━━━━━━━━━━━━━━━━━━━━━━━━━━━━━━━━━━━\u001b[0m \u001b[32m41.7/41.7 kB\u001b[0m \u001b[31m4.1 MB/s\u001b[0m eta \u001b[36m0:00:00\u001b[0m\n",
            "\u001b[?25hRequirement already satisfied: requests>=2.21.0 in /usr/local/lib/python3.10/dist-packages (from azure-core<2.0.0,>=1.28.0->azure-storage-blob) (2.31.0)\n",
            "Requirement already satisfied: six>=1.11.0 in /usr/local/lib/python3.10/dist-packages (from azure-core<2.0.0,>=1.28.0->azure-storage-blob) (1.16.0)\n",
            "Requirement already satisfied: cffi>=1.12 in /usr/local/lib/python3.10/dist-packages (from cryptography>=2.1.4->azure-storage-blob) (1.16.0)\n",
            "Requirement already satisfied: pycparser in /usr/local/lib/python3.10/dist-packages (from cffi>=1.12->cryptography>=2.1.4->azure-storage-blob) (2.21)\n",
            "Requirement already satisfied: charset-normalizer<4,>=2 in /usr/local/lib/python3.10/dist-packages (from requests>=2.21.0->azure-core<2.0.0,>=1.28.0->azure-storage-blob) (3.3.2)\n",
            "Requirement already satisfied: idna<4,>=2.5 in /usr/local/lib/python3.10/dist-packages (from requests>=2.21.0->azure-core<2.0.0,>=1.28.0->azure-storage-blob) (3.6)\n",
            "Requirement already satisfied: urllib3<3,>=1.21.1 in /usr/local/lib/python3.10/dist-packages (from requests>=2.21.0->azure-core<2.0.0,>=1.28.0->azure-storage-blob) (2.0.7)\n",
            "Requirement already satisfied: certifi>=2017.4.17 in /usr/local/lib/python3.10/dist-packages (from requests>=2.21.0->azure-core<2.0.0,>=1.28.0->azure-storage-blob) (2024.2.2)\n",
            "Installing collected packages: isodate, azure-core, azure-storage-blob\n",
            "Successfully installed azure-core-1.30.1 azure-storage-blob-12.19.1 isodate-0.6.1\n"
          ]
        }
      ]
    },
    {
      "cell_type": "code",
      "execution_count": 10,
      "metadata": {
        "id": "lclTXNhC9nX-"
      },
      "outputs": [],
      "source": [
        "import pandas as pd\n",
        "import numpy as np\n",
        "import json\n",
        "import requests\n",
        "from io import StringIO\n",
        "from azure.storage.blob import BlobServiceClient, BlobClient, ContainerClient"
      ]
    },
    {
      "cell_type": "code",
      "source": [
        "#Functions\n",
        "# Azure Functions\n",
        "def azure_upipad_blob|(connect_str, container_name, blob_name, data):\n",
        "blob_service_client = BlobServiceClient.from_connection_string(connect_str)\n",
        "blob_client = blob_service_client.get_blob_client(container=container_name, blob=blob_name)\n",
        "blob_client.upload_blob(data, overwrite=True)\n",
        "print(f\"Uploaded to Azure Blob: {blob_name]\")\n",
        "def azure_download_blob(connect_str, container_name, blob_name):\n",
        "blob_service_client = BlobServiceClient.from_connection_string(connect_str)\n",
        "blob_client = blob_service_client.get_blob_client(container=container_name, blob=blob_name)\n",
        "down load_stream = blob_client. down load_blob()\n",
        "return download_stream. readall ()"
      ],
      "metadata": {
        "id": "YpvCqTHTZpea"
      },
      "execution_count": null,
      "outputs": []
    },
    {
      "cell_type": "code",
      "source": [
        "api_url = 'https://data.cityofnewyork.us/resource/8586-3zfm.json'\n",
        "response = requests.get(api_url)\n",
        "data = pd.DataFrame(response.json())\n",
        "print(data.info())\n",
        "print(data.shape)\n",
        "print(data.head())\n"
      ],
      "metadata": {
        "colab": {
          "base_uri": "https://localhost:8080/"
        },
        "id": "BQfX5Nyp-j10",
        "outputId": "c11fe8c8-6a0c-4f39-dad6-2da69db0ff6c"
      },
      "execution_count": 8,
      "outputs": [
        {
          "output_type": "stream",
          "name": "stdout",
          "text": [
            "<class 'pandas.core.frame.DataFrame'>\n",
            "RangeIndex: 1000 entries, 0 to 999\n",
            "Data columns (total 26 columns):\n",
            " #   Column                       Non-Null Count  Dtype \n",
            "---  ------                       --------------  ----- \n",
            " 0   name                         1000 non-null   object\n",
            " 1   boro                         1000 non-null   object\n",
            " 2   geo_dist                     1000 non-null   object\n",
            " 3   projdesc                     1000 non-null   object\n",
            " 4   award                        1000 non-null   object\n",
            " 5   consttype                    1000 non-null   object\n",
            " 6   buildingid                   1000 non-null   object\n",
            " 7   building_address             1000 non-null   object\n",
            " 8   city                         1000 non-null   object\n",
            " 9   zip_code                     1000 non-null   object\n",
            " 10  borough                      998 non-null    object\n",
            " 11  latitude                     998 non-null    object\n",
            " 12  longitude                    998 non-null    object\n",
            " 13  community_board              998 non-null    object\n",
            " 14  community_council            998 non-null    object\n",
            " 15  bin                          996 non-null    object\n",
            " 16  bbl                          996 non-null    object\n",
            " 17  census_tract                 998 non-null    object\n",
            " 18  nta                          998 non-null    object\n",
            " 19  location_1                   998 non-null    object\n",
            " 20  data_as_of                   1000 non-null   object\n",
            " 21  :@computed_region_efsh_h5xi  998 non-null    object\n",
            " 22  :@computed_region_f5dn_yrer  998 non-null    object\n",
            " 23  :@computed_region_yeji_bk3q  998 non-null    object\n",
            " 24  :@computed_region_92fq_4b7q  998 non-null    object\n",
            " 25  :@computed_region_sbqj_enih  998 non-null    object\n",
            "dtypes: object(26)\n",
            "memory usage: 203.2+ KB\n",
            "None\n",
            "(1000, 26)\n",
            "                      name boro geo_dist  \\\n",
            "0        P.S. 118 - QUEENS    Q       29   \n",
            "1  P.S. 60 - STATEN ISLAND    R       31   \n",
            "2     P.S. 129 - MANHATTAN    M        5   \n",
            "3         P.S. 29 - QUEENS    Q       25   \n",
            "4       P.S. 15 - BROOKLYN    K       15   \n",
            "\n",
            "                                            projdesc        award consttype  \\\n",
            "0              LSP DOMESTIC WATER HEATER REPLACEMENT    167718.72       CIP   \n",
            "1                               LSP REPLACE UNIVENTS       355900       CIP   \n",
            "2      EXTERIOR MASONRY / PARAPETS / ROOFS / WINDOWS     29717000       CIP   \n",
            "3              LSP DOMESTIC WATER HEATER REPLACEMENT    124691.03       CIP   \n",
            "4  EXTERIOR MASONRY / FULL PROGRAM ACCESSIBILITY ...  17924068.17       CIP   \n",
            "\n",
            "  buildingid     building_address           city zip_code  ...         bbl  \\\n",
            "0       Q118      190-20 109 ROAD         Queens    11225  ...  4109260050   \n",
            "1       R060    55 MERRILL AVENUE  Staten Island    11225  ...  5015800044   \n",
            "2       M129  425 WEST 130 STREET      Manhattan    11225  ...  1019570010   \n",
            "3       Q029     125-10 23 AVENUE         Queens    11225  ...  4042290014   \n",
            "4       K015   71 SULLIVAN STREET       Brooklyn    11225  ...  3005660001   \n",
            "\n",
            "  census_tract     nta                                         location_1  \\\n",
            "0          504  QN1205  {'latitude': '40.703585', 'longitude': '-73.76...   \n",
            "1        29104  SI0204  {'latitude': '40.610073', 'longitude': '-74.16...   \n",
            "2        21703  MN0902  {'latitude': '40.814637', 'longitude': '-73.95...   \n",
            "3          907  QN0701  {'latitude': '40.778601', 'longitude': '-73.84...   \n",
            "4         5301  BK0601  {'latitude': '40.677343', 'longitude': '-74.01...   \n",
            "\n",
            "  data_as_of :@computed_region_efsh_h5xi :@computed_region_f5dn_yrer  \\\n",
            "0     23-May                       15312                          41   \n",
            "1     23-May                       10700                          30   \n",
            "2     23-May                       12424                          37   \n",
            "3     23-May                       14191                          22   \n",
            "4     23-May                       13514                          14   \n",
            "\n",
            "  :@computed_region_yeji_bk3q :@computed_region_92fq_4b7q  \\\n",
            "0                           3                           6   \n",
            "1                           1                          14   \n",
            "2                           4                          36   \n",
            "3                           3                          20   \n",
            "4                           2                           7   \n",
            "\n",
            "  :@computed_region_sbqj_enih  \n",
            "0                          71  \n",
            "1                          75  \n",
            "2                          17  \n",
            "3                          67  \n",
            "4                          48  \n",
            "\n",
            "[5 rows x 26 columns]\n"
          ]
        }
      ]
    },
    {
      "cell_type": "code",
      "source": [
        "CONNECTION_STRING_AZURE_STORAGE = \"DefaultEndpointsProtocol=https;AccountName=lscis4400spring2024;AccountKey=1uf6gngbiAsUU5p9pGTunxOx2VT/GIFHWlI1dMoI2lEZtcCgoWjKVtbWQPmcKe5iJSVeYbuyKl9S+AStXupO5g==;EndpointSuffix=core.windows.net\"\n",
        "CONTAINER_AZURE = 'activeprojects'\n",
        "blob_name = \"activeprojects.csv\"\n",
        "# Convert DataFrame to CSV\n",
        "output = StringIO()\n",
        "data.to_csv(output, index=False)\n",
        "csv_data = output.getvalue ()\n",
        "output.close ()\n",
        "# Create the BlobServiceClient object\n",
        "blob_service_client = BlobServiceClient.from_connection_string(CONNECTION_STRING_AZURE_STORAGE)\n",
        "# Get a blob client using the container name and blob name\n",
        "blob_client = blob_service_client.get_blob_client (container=CONTAINER_AZURE, blob=blob_name)\n",
        "# Upload the CS data\n",
        "blob_client.upload_blob(csv_data, overwrite=True)\n",
        "print(f\"Uploaded {blob_name} to Azure Blob Storage in container {CONTAINER_AZURE}.\")"
      ],
      "metadata": {
        "colab": {
          "base_uri": "https://localhost:8080/"
        },
        "id": "OpFs7UgDFaf6",
        "outputId": "dc7ba070-3dee-4624-de3e-51976d3a9bf0"
      },
      "execution_count": 17,
      "outputs": [
        {
          "output_type": "stream",
          "name": "stdout",
          "text": [
            "Uploaded activeprojects.csv to Azure Blob Storage in container activeprojects.\n"
          ]
        }
      ]
    },
    {
      "cell_type": "code",
      "source": [],
      "metadata": {
        "id": "Ewj_bH3REJPS"
      },
      "execution_count": null,
      "outputs": []
    }
  ]
}